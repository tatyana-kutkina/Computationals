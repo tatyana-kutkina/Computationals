{
 "cells": [
  {
   "cell_type": "markdown",
   "metadata": {
    "collapsed": true,
    "pycharm": {
     "name": "#%% md\n"
    }
   },
   "source": [
    "## Задание №3\n",
    "### Построение многочлена наилучшего приближения по узлам, являющимися корнями многочлена Чебышёва "
   ]
  },
  {
   "cell_type": "markdown",
   "source": [
    "$f(x) = \\frac{1}{1+x^2}$ - данная функция\n",
    "\n",
    "$x \\in [-1, 1]$ - отрезок интерполирования\n",
    "\n",
    "$x_0 = 0.15$ - точка интерполирования"
   ],
   "metadata": {
    "collapsed": false,
    "pycharm": {
     "name": "#%% md\n"
    }
   }
  },
  {
   "cell_type": "code",
   "execution_count": 41,
   "outputs": [],
   "source": [
    "import pandas as pd\n",
    "from Newton import coefficient, newton_val\n",
    "from Chebishev import chebishev_val"
   ],
   "metadata": {
    "collapsed": false,
    "pycharm": {
     "name": "#%%\n"
    }
   }
  },
  {
   "cell_type": "code",
   "execution_count": 42,
   "outputs": [],
   "source": [
    "x = 0.15\n",
    "a, b = -1, 1\n",
    "y = round(1 / (1 + x ** 2), 6)  # точное значение фукнции"
   ],
   "metadata": {
    "collapsed": false,
    "pycharm": {
     "name": "#%%\n"
    }
   }
  },
  {
   "cell_type": "markdown",
   "source": [
    "Вычисляем значение интерполяционного полинома по равноотстоящим узлам в точке $x_0 = 0.15$ при различных $n$.\n"
   ],
   "metadata": {
    "collapsed": false,
    "pycharm": {
     "name": "#%% md\n"
    }
   }
  },
  {
   "cell_type": "code",
   "execution_count": 43,
   "outputs": [],
   "source": [
    "n_s = [5, 10, 20]\n",
    "h = 0.2\n",
    "t = round((x - a) / h, 1)\n",
    "\n",
    "coefs = [coefficient(n, t) for n in n_s]\n",
    "value_1 = []  # значения полинома\n",
    "for i in range(len(coefs)):\n",
    "    value_1.append(newton_val(n_s[i], coefs[i], a, h))\n",
    "\n",
    "errors_1 = [abs(y - value_1[i]) for i in range(len(value_1))]  # погрешности\n"
   ],
   "metadata": {
    "collapsed": false,
    "pycharm": {
     "name": "#%%\n"
    }
   }
  },
  {
   "cell_type": "markdown",
   "source": [
    "Вычисляем значение интерполяционного полинома по корням Чебышева в точке $x_0 = 0.15$ при различных $n$.\n"
   ],
   "metadata": {
    "collapsed": false
   }
  },
  {
   "cell_type": "code",
   "execution_count": 44,
   "outputs": [],
   "source": [
    "value_2 = [chebishev_val(x, n) for n in n_s]\n",
    "errors_2 = [abs(y - value_2[i]) for i in range(len(value_2))]"
   ],
   "metadata": {
    "collapsed": false,
    "pycharm": {
     "name": "#%%\n"
    }
   }
  },
  {
   "cell_type": "markdown",
   "source": [
    "Печатаем результат\n"
   ],
   "metadata": {
    "collapsed": false,
    "pycharm": {
     "name": "#%% md\n"
    }
   }
  },
  {
   "cell_type": "code",
   "execution_count": 45,
   "outputs": [
    {
     "name": "stdout",
     "output_type": "stream",
     "text": [
      "Точное значение функции в точке x = 0.15 : 0.977995\n"
     ]
    },
    {
     "data": {
      "text/plain": "      n  значение по равноотстоящим узлам  погрешность  \\\n0   5.0                           0.89679     0.081205   \n1  10.0                           0.98756     0.009565   \n2  20.0                           0.98077     0.002775   \n\n   значение по корням Чебышева   погрешность  \n0                     0.971882  6.112758e-03  \n1                     0.978011  1.620860e-05  \n2                     0.977996  9.671046e-07  ",
      "text/html": "<div>\n<style scoped>\n    .dataframe tbody tr th:only-of-type {\n        vertical-align: middle;\n    }\n\n    .dataframe tbody tr th {\n        vertical-align: top;\n    }\n\n    .dataframe thead th {\n        text-align: right;\n    }\n</style>\n<table border=\"1\" class=\"dataframe\">\n  <thead>\n    <tr style=\"text-align: right;\">\n      <th></th>\n      <th>n</th>\n      <th>значение по равноотстоящим узлам</th>\n      <th>погрешность</th>\n      <th>значение по корням Чебышева</th>\n      <th>погрешность</th>\n    </tr>\n  </thead>\n  <tbody>\n    <tr>\n      <th>0</th>\n      <td>5.0</td>\n      <td>0.89679</td>\n      <td>0.081205</td>\n      <td>0.971882</td>\n      <td>6.112758e-03</td>\n    </tr>\n    <tr>\n      <th>1</th>\n      <td>10.0</td>\n      <td>0.98756</td>\n      <td>0.009565</td>\n      <td>0.978011</td>\n      <td>1.620860e-05</td>\n    </tr>\n    <tr>\n      <th>2</th>\n      <td>20.0</td>\n      <td>0.98077</td>\n      <td>0.002775</td>\n      <td>0.977996</td>\n      <td>9.671046e-07</td>\n    </tr>\n  </tbody>\n</table>\n</div>"
     },
     "execution_count": 45,
     "metadata": {},
     "output_type": "execute_result"
    }
   ],
   "source": [
    "print('Точное значение функции в точке x = 0.15 :', y)\n",
    "\n",
    "data = [n_s, value_1, errors_1, value_2, errors_2]\n",
    "indexes = [\n",
    "    \"n\",\n",
    "    \"значение по равноотстоящим узлам\",\n",
    "    \"погрешность\",\n",
    "    \"значение по корням Чебышева\",\n",
    "    \"погрешность\"\n",
    "]\n",
    "df = pd.DataFrame(data, index = indexes).T\n",
    "df\n"
   ],
   "metadata": {
    "collapsed": false,
    "pycharm": {
     "name": "#%%\n"
    }
   }
  }
 ],
 "metadata": {
  "kernelspec": {
   "name": "pycharm-671264a7",
   "language": "python",
   "display_name": "PyCharm (Вычи)"
  },
  "language_info": {
   "codemirror_mode": {
    "name": "ipython",
    "version": 2
   },
   "file_extension": ".py",
   "mimetype": "text/x-python",
   "name": "python",
   "nbconvert_exporter": "python",
   "pygments_lexer": "ipython2",
   "version": "2.7.6"
  }
 },
 "nbformat": 4,
 "nbformat_minor": 0
}