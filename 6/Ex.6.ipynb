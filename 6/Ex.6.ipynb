{
 "cells": [
  {
   "cell_type": "markdown",
   "metadata": {
    "collapsed": true,
    "pycharm": {
     "name": "#%% md\n"
    }
   },
   "source": [
    "## Задание №6\n",
    "\n",
    "### Вариант 5"
   ]
  },
  {
   "cell_type": "markdown",
   "metadata": {},
   "source": [
    "### Требуется вычислить интеграл:\n",
    "\n",
    "$\\int\\limits_0^1 \\frac{cos(x)}{\\sqrt[3]{x}}$"
   ]
  },
  {
   "cell_type": "code",
   "execution_count": 1,
   "metadata": {
    "pycharm": {
     "name": "#%%\n"
    }
   },
   "outputs": [],
   "source": [
    "import math\n",
    "from sympy import *\n",
    "import pandas as pd"
   ]
  },
  {
   "cell_type": "code",
   "execution_count": 2,
   "metadata": {
    "pycharm": {
     "name": "#%%\n"
    }
   },
   "outputs": [],
   "source": [
    "# функция, от которой вычисляем интеграл\n",
    "def f(x):\n",
    "    return round(math.cos(x)*(x**(-1/3)), 5)\n",
    "    "
   ]
  },
  {
   "cell_type": "markdown",
   "metadata": {
    "pycharm": {
     "name": "#%% md\n"
    }
   },
   "source": [
    "### 6.1 Точное значение интеграла y = 1.32122"
   ]
  },
  {
   "cell_type": "code",
   "execution_count": 3,
   "metadata": {
    "pycharm": {
     "name": "#%%\n"
    }
   },
   "outputs": [],
   "source": [
    "vals = []  # массив результатов\n",
    "y = 1.32122  # точное значение"
   ]
  },
  {
   "cell_type": "markdown",
   "metadata": {},
   "source": [
    "### 6.2 Вычислить интеграл по формуле средних прямоугольников с двумя узлами"
   ]
  },
  {
   "cell_type": "code",
   "execution_count": 4,
   "metadata": {
    "pycharm": {
     "name": "#%%\n"
    }
   },
   "outputs": [],
   "source": [
    "# формула средних прямоугольников\n",
    "def rectangle(a, b, n):\n",
    "    h = (b-a)/(n-1)\n",
    "    part_val = 0\n",
    "    for k in range(1,n):\n",
    "        part_val += f(a + h/2 + (k-1)*h)\n",
    "    val = h * part_val\n",
    "    return val"
   ]
  },
  {
   "cell_type": "code",
   "execution_count": 5,
   "metadata": {
    "pycharm": {
     "name": "#%%\n"
    }
   },
   "outputs": [
    {
     "name": "stdout",
     "output_type": "stream",
     "text": [
      "Значение по формуле средних прямоугольников:  1.10568\n"
     ]
    }
   ],
   "source": [
    "a, b = 0, 1\n",
    "vals.append(rectangle(a, b, 2)) \n",
    "print(\"Значение по формуле средних прямоугольников: \",vals[0])"
   ]
  },
  {
   "cell_type": "markdown",
   "metadata": {},
   "source": [
    "### 6.3 Построить интерполяционную формулу с весом $\\frac{1}{\\sqrt[3]{x}}$ по узлам $x_1 = \\frac14$,$x_2 = \\frac34$ и вычислить интеграл по этой формуле."
   ]
  },
  {
   "cell_type": "markdown",
   "metadata": {},
   "source": [
    "$\\int\\limits_0^1 \\frac{cos(x)}{\\sqrt[3]{x}} \\approx \\sum\\limits_{k=1}^n A_kf(x_k)$\n",
    "\n",
    "$ n = 2 $\n",
    "\n",
    "$f(x) = \\cos(x)$, $p(x) = \\frac{1}{\\sqrt[3]{x}}$, $x_1 = \\frac14$, $x_2 = \\frac34$\n",
    "\n",
    "$A_k = \\int\\limits_0^1 { \\frac{w(x)}{\\sqrt[3]{x} (x - x_k) w'(x_k)} } $, $w(x) = (x - x_1)(x - x_2)$\n",
    "\n",
    "$A_1 = \\int\\limits_0^1 { \\frac{x-x_2}{\\sqrt[3]{x} (x_1 - x_2)} } $, $A_2 = \\int\\limits_0^1 { \\frac{x-x_1}{\\sqrt[3]{x} (x_2 - x_1)} } $\n",
    "\n",
    "$\\int\\limits_0^1 \\frac{cos(x)}{\\sqrt[3]{x}} \\approx A_1f(x_1) + A_2f(x_2)$"
   ]
  },
  {
   "cell_type": "code",
   "execution_count": 6,
   "metadata": {
    "pycharm": {
     "name": "#%%\n"
    }
   },
   "outputs": [
    {
     "name": "stdout",
     "output_type": "stream",
     "text": [
      "Значение интеграла по интерполяционной формуле:  1.3466180337893965\n"
     ]
    }
   ],
   "source": [
    "# вычисляем интеграл по последней формуле\n",
    "x_1, x_2 = 1/4, 3/4\n",
    "x = symbols('x')\n",
    "part_coef_1 = float(integrate((x-Rational(3,4))/(x**(Rational(1,3))), (x, 0, 1)))\n",
    "part_coef_2 = float(integrate((x-Rational(1,4))/(x**(Rational(1,3))), (x, 0, 1)))\n",
    "\n",
    "coef_1 = part_coef_1 / (x_1 - x_2)\n",
    "coef_2 = part_coef_2 / (x_2 - x_1)\n",
    "\n",
    "vals.append(coef_1*math.cos(x_1) + coef_2*math.cos(x_2)) \n",
    "\n",
    "print(\"Значение интеграла по интерполяционной формуле: \", vals[1])\n"
   ]
  },
  {
   "cell_type": "markdown",
   "metadata": {},
   "source": [
    "### 6.4 Вычислить значение интеграла по формуле Гаусса с тремя узлами"
   ]
  },
  {
   "cell_type": "markdown",
   "metadata": {
    "pycharm": {
     "name": "#%% md\n"
    }
   },
   "source": [
    "$\\int\\limits_a^b f(x)dx \\approx \\frac{b-a}{2} \\sum\\limits_{i=1}^n c_i f(x_i)$, $x_i = \\frac12 (a+b +(b-a)t_i)$\n",
    "\n",
    "$t_i$ - корни многочлена Лежандра\n",
    "\n",
    "Для $n=3$:\n",
    "\n",
    "$c_1 = \\frac59$, $c_2 = \\frac89$, $c_3 = \\frac59$\n",
    "\n",
    "$t_1 = -\\sqrt{\\frac35}$, $t_2 = 0$, $t_3 = \\sqrt{\\frac35}$\n",
    "\n"
   ]
  },
  {
   "cell_type": "code",
   "execution_count": 7,
   "metadata": {
    "pycharm": {
     "name": "#%%\n"
    }
   },
   "outputs": [
    {
     "name": "stdout",
     "output_type": "stream",
     "text": [
      "Значение по формуле Гаусса:  1.24538838033888\n"
     ]
    }
   ],
   "source": [
    "# вычисляем значение интеграла по формуле Гаусса с тремя узлами\n",
    "\n",
    "t_i = [-sqrt(3/5), 0, sqrt(3/5)]\n",
    "c_i = [5/9, 8./9, 5/9]\n",
    "x_i = [1/2 * (a + b + (b-a)*t_i[i]) for i in range(len(t_i))]\n",
    "\n",
    "def Gauss(nodes, coefs):\n",
    "    s = 0\n",
    "    for i in range(len(nodes)):\n",
    "        s += coefs[i]*f(nodes[i])\n",
    "    return ((b-a)/2)*s\n",
    "\n",
    "vals.append(Gauss(x_i, c_i))\n",
    "\n",
    "print(\"Значение по формуле Гаусса: \", vals[2])\n",
    "\n"
   ]
  },
  {
   "cell_type": "markdown",
   "metadata": {},
   "source": [
    "### 6.5 Построить формулу типа Гаусса с тремя узлами и вычислить интеграл по этой формуле.\n"
   ]
  },
  {
   "cell_type": "markdown",
   "metadata": {},
   "source": [
    "$\\int\\limits_0^1 \\frac{cos(x)}{\\sqrt[3]{x}} \\approx \\sum\\limits_{k=1}^n A_kf(x_k)$\n",
    "\n",
    "$n=3$\n",
    "\n",
    "\n",
    "$f(x) = \\cos(x)$, $p(x) = \\frac{1}{\\sqrt[3]{x}}$,\n",
    "\n",
    "$A_k = \\int\\limits_0^1 { \\frac{w(x)}{\\sqrt[3]{x} (x - x_k) w'(x_k)} } $, $w(x) = (x - x_1)(x - x_2)(x-x_3)$"
   ]
  },
  {
   "cell_type": "markdown",
   "metadata": {},
   "source": [
    "$\\mu_k = \\int\\limits_0^1 p(x)x^kdx$, где $ k = 0,1,...,2n-1  $\n",
    "\n",
    "$x_k$,  искомые узлы, - корни уравнения: $x^3 +a_1x^2 +a_2x +a_3 = 0$, где коэффициенты $a_i$ находятся как\n",
    "решение системы:\n",
    "\n",
    "$\n",
    "\\begin{cases}\n",
    "a_1\\mu_2 + a_2\\mu_1 +a_3\\mu_o = -\\mu_3 \\\\\n",
    "a_1\\mu_3 + a_2\\mu_2 +a_3\\mu_1 = -\\mu_4 \\\\\n",
    "a_1\\mu_4 + a_2\\mu_3 +a_3\\mu_2 = -\\mu_5\n",
    "\\end{cases}\n",
    "$"
   ]
  },
  {
   "cell_type": "code",
   "execution_count": 8,
   "metadata": {
    "pycharm": {
     "name": "#%%\n"
    }
   },
   "outputs": [
    {
     "name": "stdout",
     "output_type": "stream",
     "text": [
      "[3/2, 3/5, 3/8, 3/11, 3/14, 3/17]\n"
     ]
    }
   ],
   "source": [
    "n = 3\n",
    "# вычисляем коэффициенты мю_k\n",
    "m_k = [(integrate((x**k)/x**(Rational(1,3)), (x, 0, 1))) for k in range(0, 2*n) ]\n",
    "print(m_k)"
   ]
  },
  {
   "cell_type": "markdown",
   "metadata": {},
   "source": [
    "$\n",
    "\\begin{cases}\n",
    "a_1\\frac38 + a_2\\frac35 +a_3\\frac32 = -\\frac{3}{11} \\\\\n",
    "a_1\\frac{3}{11} + a_2\\frac38 +a_3\\frac35 = -\\frac{3}{14} \\\\\n",
    "a_1\\frac{3}{14} + a_2\\frac{3}{11} +a_3\\frac38 = -\\frac{3}{17}\n",
    "\\end{cases}\n",
    "$\n",
    "\n",
    "$a_1 = - \\frac{24}{17}$, \n",
    "$a_2 = \\frac{60}{119}$,\n",
    "$a_3 = -\\frac{40}{1309}$"
   ]
  },
  {
   "cell_type": "code",
   "execution_count": 9,
   "metadata": {
    "pycharm": {
     "name": "#%%\n"
    }
   },
   "outputs": [],
   "source": [
    "# найденные коэффициенты а_к\n",
    "a_i = [\n",
    "    -1.41176470588,\n",
    "    0.50420168067,\n",
    "    -0.03055767761\n",
    "]\n"
   ]
  },
  {
   "cell_type": "markdown",
   "metadata": {},
   "source": [
    "Искомые узлы - это корни уравнения $x^3 -\\frac{24}{17}x^2 + \\frac{60}{119}x - \\frac{40}{1309} = 0$"
   ]
  },
  {
   "cell_type": "code",
   "execution_count": 10,
   "metadata": {
    "pycharm": {
     "name": "#%%\n"
    }
   },
   "outputs": [],
   "source": [
    "# найденные узлы\n",
    "xx = [\n",
    "    0.0758493318573316,\n",
    "    0.459885393074636,\n",
    "    0.876029980950385\n",
    "]"
   ]
  },
  {
   "cell_type": "markdown",
   "metadata": {
    "pycharm": {
     "name": "#%% md\n"
    }
   },
   "source": [
    "$A_1 = \\int\\limits_0^1 { \\frac{(x-x_2)(x - x_3)}{\\sqrt[3]{x} (x_1 - x_2)(x_1 - x_3)} } $,\n",
    "$A_2 = \\int\\limits_0^1 { \\frac{(x-x_1)(x-x_3)}{\\sqrt[3]{x} (x_2 - x_1)(x_2-x_3)} } $,\n",
    "$A_3 = \\int\\limits_0^1 { \\frac{(x-x_1)(x-x_2)}{\\sqrt[3]{x} (x_3 - x_1)(x_3-x_2)} } $\n",
    "\n",
    "$A_1 = \\frac{\\mu_2 - \\mu_1(x_2 + x_3) + \\mu_0x_2x_3}{(x_1 - x_2)(x_1 - x_3)}$,\n",
    "$A_2 = \\frac{\\mu_2 - \\mu_1(x_1 + x_3) + \\mu_0x_1x_3}{(x_2 - x_1)(x_2-x_3)}$,\n",
    "$A_3 = \\frac{\\mu_2 - \\mu_1(x_2 + x_1) + \\mu_0x_2x_1}{(x_3 - x_1)(x_3-x_2)}$\n",
    "\n",
    "$\\int\\limits_0^1 \\frac{cos(x)}{\\sqrt[3]{x}} \\approx A_1f(x_1) + A_2f(x_2) + A_3f(x_3)$"
   ]
  },
  {
   "cell_type": "code",
   "execution_count": 11,
   "metadata": {
    "pycharm": {
     "name": "#%%\n"
    }
   },
   "outputs": [
    {
     "name": "stdout",
     "output_type": "stream",
     "text": [
      "1.50406014492820\n"
     ]
    }
   ],
   "source": [
    "# вычисляем коэффициенты А_К и итоговое значение интеграла\n",
    "\n",
    "p1 = (xx[0] - xx[1])*(xx[0] - xx[2])\n",
    "part_1 = m_k[2] - m_k[1]*(xx[1] + xx[2]) + m_k[0]*xx[1]*xx[2]\n",
    "A_1 = part_1 / p1\n",
    "\n",
    "p2 = (xx[1] - xx[0])*(xx[1] - xx[2])\n",
    "part_2 = m_k[2] - m_k[1]*(xx[0] + xx[2]) + m_k[0]*xx[0]*xx[2]\n",
    "A_2 = part_2 / p2\n",
    "\n",
    "p3 = (xx[2] - xx[0])*(xx[2] - xx[1])\n",
    "part_3 = m_k[2] - m_k[1]*(xx[1] + xx[0]) + m_k[0]*xx[1]*xx[0]\n",
    "A_3 = part_3 / p3\n",
    "\n",
    "vals.append(A_1*math.cos(xx[0]) + A_2 *math.cos(xx[1]) + A_2*math.cos(xx[2]))\n",
    "\n",
    "print(\"Значение по формуле типа Гаусса с тремя узлами\",vals[3])\n"
   ]
  },
  {
   "cell_type": "markdown",
   "metadata": {
    "pycharm": {
     "name": "#%% md\n"
    }
   },
   "source": [
    "### Итоговая таблица"
   ]
  },
  {
   "cell_type": "code",
   "execution_count": 12,
   "metadata": {
    "pycharm": {
     "name": "#%%\n"
    }
   },
   "outputs": [
    {
     "data": {
      "text/html": [
       "<div>\n",
       "<style scoped>\n",
       "    .dataframe tbody tr th:only-of-type {\n",
       "        vertical-align: middle;\n",
       "    }\n",
       "\n",
       "    .dataframe tbody tr th {\n",
       "        vertical-align: top;\n",
       "    }\n",
       "\n",
       "    .dataframe thead th {\n",
       "        text-align: right;\n",
       "    }\n",
       "</style>\n",
       "<table border=\"1\" class=\"dataframe\">\n",
       "  <thead>\n",
       "    <tr style=\"text-align: right;\">\n",
       "      <th></th>\n",
       "      <th>средние прямоугольники</th>\n",
       "      <th>интерполяция с весом p(x)</th>\n",
       "      <th>формула Гаусса</th>\n",
       "      <th>формула типа Гаусса с треями узлами</th>\n",
       "    </tr>\n",
       "  </thead>\n",
       "  <tbody>\n",
       "    <tr>\n",
       "      <th>Значение</th>\n",
       "      <td>1.10568</td>\n",
       "      <td>1.346618</td>\n",
       "      <td>1.24538838033888</td>\n",
       "      <td>1.50406014492820</td>\n",
       "    </tr>\n",
       "    <tr>\n",
       "      <th>Погрешность</th>\n",
       "      <td>0.21554</td>\n",
       "      <td>0.025398</td>\n",
       "      <td>0.0758316196611193</td>\n",
       "      <td>0.182840144928197</td>\n",
       "    </tr>\n",
       "  </tbody>\n",
       "</table>\n",
       "</div>"
      ],
      "text/plain": [
       "             средние прямоугольники  интерполяция с весом p(x)  \\\n",
       "Значение                    1.10568                   1.346618   \n",
       "Погрешность                 0.21554                   0.025398   \n",
       "\n",
       "                 формула Гаусса формула типа Гаусса с треями узлами  \n",
       "Значение       1.24538838033888                    1.50406014492820  \n",
       "Погрешность  0.0758316196611193                   0.182840144928197  "
      ]
     },
     "execution_count": 12,
     "metadata": {},
     "output_type": "execute_result"
    }
   ],
   "source": [
    "errors = [abs(y - vals[i]) for i in range(len(vals))]\n",
    "data = [vals, errors]\n",
    "columns = [\n",
    "    \"средние прямоугольники\",\n",
    "    \"интерполяция с весом p(x)\",\n",
    "    \"формула Гаусса\",\n",
    "    \"формула типа Гаусса с треями узлами\"\n",
    "]\n",
    "indexes = [\n",
    "    \"Значение\",\n",
    "    \"Погрешность\"\n",
    "]\n",
    "df = pd.DataFrame(data, index = indexes, columns=columns)\n",
    "df"
   ]
  }
 ],
 "metadata": {
  "kernelspec": {
   "display_name": "PyCharm (Вычи)",
   "language": "python",
   "name": "pycharm-671264a7"
  },
  "language_info": {
   "codemirror_mode": {
    "name": "ipython",
    "version": 3
   },
   "file_extension": ".py",
   "mimetype": "text/x-python",
   "name": "python",
   "nbconvert_exporter": "python",
   "pygments_lexer": "ipython3",
   "version": "3.6.9"
  }
 },
 "nbformat": 4,
 "nbformat_minor": 1
}