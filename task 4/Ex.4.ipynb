{
 "cells": [
  {
   "cell_type": "markdown",
   "source": [
    "## Задание №4 (интерполирование эрмита)\n",
    "\n",
    "## Вариант 5"
   ],
   "metadata": {
    "collapsed": false,
    "pycharm": {
     "name": "#%% md\n"
    }
   }
  },
  {
   "cell_type": "code",
   "execution_count": 72,
   "outputs": [],
   "source": [
    "import pandas as pd\n",
    "import Hermite"
   ],
   "metadata": {
    "collapsed": false,
    "pycharm": {
     "name": "#%%\n",
     "is_executing": false
    }
   }
  },
  {
   "cell_type": "markdown",
   "metadata": {
    "collapsed": true,
    "pycharm": {
     "name": "#%% md\n"
    }
   },
   "source": [
    "### Дана таблица значений\n"
   ]
  },
  {
   "cell_type": "code",
   "execution_count": 73,
   "outputs": [
    {
     "data": {
      "text/plain": "$x$  $f(x)$ $f'(x)$ $f''(x)$\n-2       -4                 \n0        -8       2      -16\n1        -8                 \n2      -148    -278         ",
      "text/html": "<div>\n<style scoped>\n    .dataframe tbody tr th:only-of-type {\n        vertical-align: middle;\n    }\n\n    .dataframe tbody tr th {\n        vertical-align: top;\n    }\n\n    .dataframe thead th {\n        text-align: right;\n    }\n</style>\n<table border=\"1\" class=\"dataframe\">\n  <thead>\n    <tr style=\"text-align: right;\">\n      <th>$x$</th>\n      <th>$f(x)$</th>\n      <th>$f'(x)$</th>\n      <th>$f''(x)$</th>\n    </tr>\n  </thead>\n  <tbody>\n    <tr>\n      <th>-2</th>\n      <td>-4</td>\n      <td></td>\n      <td></td>\n    </tr>\n    <tr>\n      <th>0</th>\n      <td>-8</td>\n      <td>2</td>\n      <td>-16</td>\n    </tr>\n    <tr>\n      <th>1</th>\n      <td>-8</td>\n      <td></td>\n      <td></td>\n    </tr>\n    <tr>\n      <th>2</th>\n      <td>-148</td>\n      <td>-278</td>\n      <td></td>\n    </tr>\n  </tbody>\n</table>\n</div>"
     },
     "metadata": {},
     "output_type": "execute_result",
     "execution_count": 73
    }
   ],
   "source": [
    "arr = {-2:[-4], 0:[-8,2,-16], 1:[-8], 2:[-148,-278]}\n",
    "columns=[\n",
    "    \"$f(x)$\",\n",
    "    \"$f'(x)$\",\n",
    "    \"$f''(x)$\"\n",
    "]\n",
    "data = [arr[node] for node in arr.keys()]\n",
    "indexes = [str(node) for node in arr.keys()]\n",
    "df = pd.DataFrame(data, index = indexes, columns = columns).fillna(' ')\n",
    "df.columns.name = \"$x$\"\n",
    "df"
   ],
   "metadata": {
    "collapsed": false,
    "pycharm": {
     "name": "#%%\n",
     "is_executing": false
    }
   }
  },
  {
   "cell_type": "markdown",
   "source": [
    "### Находим разделенные разности и коэффициенты полинома"
   ],
   "metadata": {
    "collapsed": false,
    "pycharm": {
     "name": "#%% md\n"
    }
   }
  },
  {
   "cell_type": "code",
   "execution_count": 74,
   "outputs": [
    {
     "data": {
      "text/plain": "      0    1    2   3        4        5        6\n-2   -4   -2    2  -5  3.66667 -5.91667  3.97917\n 0   -8    2   -8   6      -20       10         \n 0   -8    2   -2 -34        0                  \n 0   -8    0  -70 -34                           \n 1   -8 -140 -138                               \n 2 -148 -278                                    \n 2 -148                                         ",
      "text/html": "<div>\n<style scoped>\n    .dataframe tbody tr th:only-of-type {\n        vertical-align: middle;\n    }\n\n    .dataframe tbody tr th {\n        vertical-align: top;\n    }\n\n    .dataframe thead th {\n        text-align: right;\n    }\n</style>\n<table border=\"1\" class=\"dataframe\">\n  <thead>\n    <tr style=\"text-align: right;\">\n      <th></th>\n      <th>0</th>\n      <th>1</th>\n      <th>2</th>\n      <th>3</th>\n      <th>4</th>\n      <th>5</th>\n      <th>6</th>\n    </tr>\n  </thead>\n  <tbody>\n    <tr>\n      <th>-2</th>\n      <td>-4</td>\n      <td>-2</td>\n      <td>2</td>\n      <td>-5</td>\n      <td>3.66667</td>\n      <td>-5.91667</td>\n      <td>3.97917</td>\n    </tr>\n    <tr>\n      <th>0</th>\n      <td>-8</td>\n      <td>2</td>\n      <td>-8</td>\n      <td>6</td>\n      <td>-20</td>\n      <td>10</td>\n      <td></td>\n    </tr>\n    <tr>\n      <th>0</th>\n      <td>-8</td>\n      <td>2</td>\n      <td>-2</td>\n      <td>-34</td>\n      <td>0</td>\n      <td></td>\n      <td></td>\n    </tr>\n    <tr>\n      <th>0</th>\n      <td>-8</td>\n      <td>0</td>\n      <td>-70</td>\n      <td>-34</td>\n      <td></td>\n      <td></td>\n      <td></td>\n    </tr>\n    <tr>\n      <th>1</th>\n      <td>-8</td>\n      <td>-140</td>\n      <td>-138</td>\n      <td></td>\n      <td></td>\n      <td></td>\n      <td></td>\n    </tr>\n    <tr>\n      <th>2</th>\n      <td>-148</td>\n      <td>-278</td>\n      <td></td>\n      <td></td>\n      <td></td>\n      <td></td>\n      <td></td>\n    </tr>\n    <tr>\n      <th>2</th>\n      <td>-148</td>\n      <td></td>\n      <td></td>\n      <td></td>\n      <td></td>\n      <td></td>\n      <td></td>\n    </tr>\n  </tbody>\n</table>\n</div>"
     },
     "metadata": {},
     "output_type": "execute_result",
     "execution_count": 74
    }
   ],
   "source": [
    "xx = Hermite.create_nodes(arr) # узлы\n",
    "raznost = Hermite.sep_diffs(arr, xx) # разделенные разности\n",
    "coes = Hermite.coefficient(raznost) # коэффициенты\n",
    "table = Hermite.create_table(raznost, xx) # таблица разделенных разностей\n",
    "\n",
    "table"
   ],
   "metadata": {
    "collapsed": false,
    "pycharm": {
     "name": "#%%\n",
     "is_executing": false
    }
   }
  },
  {
   "cell_type": "code",
   "execution_count": 75,
   "outputs": [
    {
     "name": "stdout",
     "text": [
      "[-4, -2.0, 2.0, -5.0, 3.66667, -5.91667, 3.97917]\n"
     ],
     "output_type": "stream"
    }
   ],
   "source": [
    "# коэффициенты искомого полинома\n",
    "print(coes)"
   ],
   "metadata": {
    "collapsed": false,
    "pycharm": {
     "name": "#%%\n",
     "is_executing": false
    }
   }
  },
  {
   "cell_type": "markdown",
   "source": [
    "### Искомый полином"
   ],
   "metadata": {
    "collapsed": false,
    "pycharm": {
     "name": "#%% md\n",
     "is_executing": false
    }
   }
  },
  {
   "cell_type": "code",
   "execution_count": 76,
   "outputs": [
    {
     "name": "stdout",
     "text": [
      "-4-2.000*(x+2)+2.000*(x+2)*x-5.000*(x+2)*x*x+3.667*(x+2)*x*x*x-5.917*(x+2)*x*x*x*(x-1)+3.979*(x+2)*x*x*x*(x-1)*(x-2)\n"
     ],
     "output_type": "stream"
    }
   ],
   "source": [
    "Hermite.print_polynomial(coes,xx)"
   ],
   "metadata": {
    "collapsed": false,
    "pycharm": {
     "name": "#%%\n",
     "is_executing": false
    }
   }
  },
  {
   "cell_type": "markdown",
   "source": [
    "$P_6(x) = -4 -2(x+2) + 2(x+2)x - 5(x+2)x^2 + 3.67(x+2)x^3 - 5.91(x+2)x^3(x-1) + 3.98(x+2)x^3(x-1)(x-2)$"
   ],
   "metadata": {
    "collapsed": false
   }
  },
  {
   "cell_type": "markdown",
   "source": [
    "### Проверка интерполяционности многочлена"
   ],
   "metadata": {
    "collapsed": false
   }
  },
  {
   "cell_type": "code",
   "execution_count": 77,
   "outputs": [
    {
     "data": {
      "text/plain": "$x$  $f(x)$ $f'(x)$ $f''(x)$\n-2     -4.0                 \n0      -8.0       2      -16\n1      -8.0                 \n2    -148.0    -278         ",
      "text/html": "<div>\n<style scoped>\n    .dataframe tbody tr th:only-of-type {\n        vertical-align: middle;\n    }\n\n    .dataframe tbody tr th {\n        vertical-align: top;\n    }\n\n    .dataframe thead th {\n        text-align: right;\n    }\n</style>\n<table border=\"1\" class=\"dataframe\">\n  <thead>\n    <tr style=\"text-align: right;\">\n      <th>$x$</th>\n      <th>$f(x)$</th>\n      <th>$f'(x)$</th>\n      <th>$f''(x)$</th>\n    </tr>\n  </thead>\n  <tbody>\n    <tr>\n      <th>-2</th>\n      <td>-4.0</td>\n      <td></td>\n      <td></td>\n    </tr>\n    <tr>\n      <th>0</th>\n      <td>-8.0</td>\n      <td>2</td>\n      <td>-16</td>\n    </tr>\n    <tr>\n      <th>1</th>\n      <td>-8.0</td>\n      <td></td>\n      <td></td>\n    </tr>\n    <tr>\n      <th>2</th>\n      <td>-148.0</td>\n      <td>-278</td>\n      <td></td>\n    </tr>\n  </tbody>\n</table>\n</div>"
     },
     "metadata": {},
     "output_type": "execute_result",
     "execution_count": 77
    }
   ],
   "source": [
    "f = [round(Hermite.P(i, coes, xx),1) for i in arr.keys()]\n",
    "df = lambda x: 23.88*x**5 - 49.5*x**4 - 72.64*x**3 + 90.24*x**2 -16*x + 2\n",
    "df2 = lambda x: 119.4*x**4 - 197.8*x**3 - 217.92*x**2 + 180.48*x -16\n",
    "\n",
    "df2 = pd.DataFrame(\n",
    "    data = [[f[0]], [f[1], df(0), df2(0)], [f[2]], [f[3],df(2.0)] ],\n",
    "    index = [str(node) for node in arr.keys()],\n",
    "    columns=[\n",
    "    \"$f(x)$\",\n",
    "    \"$f'(x)$\",\n",
    "    \"$f''(x)$\"\n",
    "]\n",
    ").fillna(' ')\n",
    "df2.columns.name = \"$x$\"\n",
    "df2\n"
   ],
   "metadata": {
    "collapsed": false,
    "pycharm": {
     "name": "#%%\n",
     "is_executing": false
    }
   }
  }
 ],
 "metadata": {
  "kernelspec": {
   "name": "pycharm-671264a7",
   "language": "python",
   "display_name": "PyCharm (Вычи)"
  },
  "language_info": {
   "codemirror_mode": {
    "name": "ipython",
    "version": 2
   },
   "file_extension": ".py",
   "mimetype": "text/x-python",
   "name": "python",
   "nbconvert_exporter": "python",
   "pygments_lexer": "ipython2",
   "version": "2.7.6"
  },
  "pycharm": {
   "stem_cell": {
    "cell_type": "raw",
    "source": [],
    "metadata": {
     "collapsed": false
    }
   }
  }
 },
 "nbformat": 4,
 "nbformat_minor": 0
}