{
 "cells": [
  {
   "cell_type": "markdown",
   "metadata": {
    "collapsed": true,
    "pycharm": {
     "name": "#%% md\n"
    }
   },
   "source": [
    "## Задание №7\n",
    "### Вариант 5"
   ]
  },
  {
   "cell_type": "markdown",
   "source": [
    "Дана система:\n",
    "\n",
    "$\n",
    "\\begin{cases}\n",
    "\\sin(x - 0.5y) = x - y^2 \\\\\n",
    "(y + 0.1)^2 + x^2 = 0.7\n",
    "\\end{cases}\n",
    "$\n",
    "\n"
   ],
   "metadata": {
    "collapsed": false,
    "pycharm": {
     "name": "#%% md\n"
    }
   }
  },
  {
   "cell_type": "markdown",
   "source": [
    "#### 1. Графики функций $f(x,y) = 0$, $g(x,y) = 0$."
   ],
   "metadata": {
    "collapsed": false
   }
  },
  {
   "cell_type": "code",
   "execution_count": 1,
   "outputs": [
    {
     "data": {
      "text/plain": "<Figure size 432x288 with 1 Axes>",
      "image/png": "[encoded data removed]"
     },
     "metadata": {
      "needs_background": "light"
     },
     "output_type": "display_data"
    }
   ],
   "source": [
    "# importing the required modules\n",
    "import matplotlib.pyplot as plt\n",
    "import numpy as np\n",
    "\n",
    "delta = 0.025\n",
    "x = np.arange(-2, 2, delta)\n",
    "y = np.arange(-2, 2, delta)\n",
    "p, q = np.meshgrid(x, y)\n",
    "\n",
    "# define function f(x,y)\n",
    "f = lambda x, y: np.sin(x - 0.5*y) - x + y**2\n",
    "\n",
    "# define function g(x,y)\n",
    "g = lambda x, y: (y + 0.1)**2 + x**2- 0.7\n",
    "\n",
    "z_1=f(p,q)\n",
    "z_2 = g(p,q)\n",
    "\n",
    "# plot contour line of f(x,y)==0, g(x,y)==0\n",
    "plt.contour(p, q, z_1 , [0], colors=\"purple\")\n",
    "plt.contour(p, q, z_2 , [0], colors=\"magenta\")\n",
    "\n",
    "plt.grid()\n",
    "plt.show()"
   ],
   "metadata": {
    "collapsed": false,
    "pycharm": {
     "name": "#%%\n"
    }
   }
  },
  {
   "cell_type": "markdown",
   "source": [
    "#### 2. Уточнение начального приближения до тех пор, пока норма больше эпсилон, методом Ньютона"
   ],
   "metadata": {
    "collapsed": false,
    "pycharm": {
     "name": "#%% md\n"
    }
   }
  },
  {
   "cell_type": "markdown",
   "source": [
    "Начальные приближения:\n",
    "\n",
    "\n",
    "$P_1 = (0.568 , 0.519)$ , $P_2 = (0.835 , -0.194)$"
   ],
   "metadata": {
    "collapsed": false,
    "pycharm": {
     "name": "#%% md\n"
    }
   }
  },
  {
   "cell_type": "code",
   "execution_count": 2,
   "outputs": [],
   "source": [
    "# импортируем модуль с методом Ньютона\n",
    "import method_Newton as newt\n",
    "\n",
    "# определим функции f и g и их частные производные\n",
    "f = lambda x, y: np.sin(x - 0.5*y) - x + y**2\n",
    "g = lambda x, y: (y + 0.1)**2 + x**2- 0.7\n",
    "df_x = lambda x, y: np.cos(x - 0.5*y) - 1\n",
    "df_y = lambda x, y: (-0.5)*np.cos(x - 0.5*y) +2*y\n",
    "dg_x = lambda x : 2*x\n",
    "dg_y = lambda y: 2*(y + 0.1)"
   ],
   "metadata": {
    "collapsed": false,
    "pycharm": {
     "name": "#%%\n"
    }
   }
  },
  {
   "cell_type": "markdown",
   "source": [
    "#### 2.1 Точка $P_1$"
   ],
   "metadata": {
    "collapsed": false
   }
  },
  {
   "cell_type": "code",
   "execution_count": 3,
   "outputs": [
    {
     "name": "stdout",
     "output_type": "stream",
     "text": [
      "Полученное приближенное решение =  [0.5722448096426793, 0.5103571723483016]\n"
     ]
    },
    {
     "data": {
      "text/plain": "$k$     $x_k$     $y_k$      $norma$ $f(x_k, y_k)$ $g(x_k, y_k)$\n0       0.568     0.519                 0.00499079      0.005785\n1    0.572207  0.510467   0.00951365   6.18163e-05   9.05095e-05\n2    0.572245  0.510357  0.000116179   1.07056e-08   1.34976e-08\n3    0.572245  0.510357  2.06147e-08   3.33067e-16   6.66134e-16",
      "text/html": "<div>\n<style scoped>\n    .dataframe tbody tr th:only-of-type {\n        vertical-align: middle;\n    }\n\n    .dataframe tbody tr th {\n        vertical-align: top;\n    }\n\n    .dataframe thead th {\n        text-align: right;\n    }\n</style>\n<table border=\"1\" class=\"dataframe\">\n  <thead>\n    <tr style=\"text-align: right;\">\n      <th>$k$</th>\n      <th>$x_k$</th>\n      <th>$y_k$</th>\n      <th>$norma$</th>\n      <th>$f(x_k, y_k)$</th>\n      <th>$g(x_k, y_k)$</th>\n    </tr>\n  </thead>\n  <tbody>\n    <tr>\n      <th>0</th>\n      <td>0.568</td>\n      <td>0.519</td>\n      <td></td>\n      <td>0.00499079</td>\n      <td>0.005785</td>\n    </tr>\n    <tr>\n      <th>1</th>\n      <td>0.572207</td>\n      <td>0.510467</td>\n      <td>0.00951365</td>\n      <td>6.18163e-05</td>\n      <td>9.05095e-05</td>\n    </tr>\n    <tr>\n      <th>2</th>\n      <td>0.572245</td>\n      <td>0.510357</td>\n      <td>0.000116179</td>\n      <td>1.07056e-08</td>\n      <td>1.34976e-08</td>\n    </tr>\n    <tr>\n      <th>3</th>\n      <td>0.572245</td>\n      <td>0.510357</td>\n      <td>2.06147e-08</td>\n      <td>3.33067e-16</td>\n      <td>6.66134e-16</td>\n    </tr>\n  </tbody>\n</table>\n</div>"
     },
     "execution_count": 3,
     "metadata": {},
     "output_type": "execute_result"
    }
   ],
   "source": [
    "eps = 0.00001\n",
    "x_0, y_0 = 0.568 , 0.519\n",
    "num = 5\n",
    "\n",
    "table_1, value_1 = newt.Newton_method(x_0, y_0, eps, num, f, g, df_x, df_y, dg_x, dg_y)\n",
    "\n",
    "print(\"Полученное приближенное решение = \", value_1)\n",
    "table_1"
   ],
   "metadata": {
    "collapsed": false,
    "pycharm": {
     "name": "#%%\n"
    }
   }
  },
  {
   "cell_type": "markdown",
   "source": [
    "#### 2.2 Точка $P_2$"
   ],
   "metadata": {
    "collapsed": false,
    "pycharm": {
     "name": "#%% md\n"
    }
   }
  },
  {
   "cell_type": "code",
   "execution_count": 4,
   "outputs": [
    {
     "name": "stdout",
     "output_type": "stream",
     "text": [
      "Полученное приближенное решение =  [0.8323901860540492, -0.18441906278149434]\n"
     ]
    },
    {
     "data": {
      "text/plain": "$k$     $x_k$     $y_k$      $norma$ $f(x_k, y_k)$ $g(x_k, y_k)$\n0       0.835    -0.194                    0.00545      0.006061\n1    0.832435 -0.184547   0.00979474   6.80534e-05   9.59369e-05\n2     0.83239 -0.184419  0.000135599   1.16843e-08   1.83872e-08\n3     0.83239 -0.184419  2.42692e-08   3.95517e-16   6.66134e-16",
      "text/html": "<div>\n<style scoped>\n    .dataframe tbody tr th:only-of-type {\n        vertical-align: middle;\n    }\n\n    .dataframe tbody tr th {\n        vertical-align: top;\n    }\n\n    .dataframe thead th {\n        text-align: right;\n    }\n</style>\n<table border=\"1\" class=\"dataframe\">\n  <thead>\n    <tr style=\"text-align: right;\">\n      <th>$k$</th>\n      <th>$x_k$</th>\n      <th>$y_k$</th>\n      <th>$norma$</th>\n      <th>$f(x_k, y_k)$</th>\n      <th>$g(x_k, y_k)$</th>\n    </tr>\n  </thead>\n  <tbody>\n    <tr>\n      <th>0</th>\n      <td>0.835</td>\n      <td>-0.194</td>\n      <td></td>\n      <td>0.00545</td>\n      <td>0.006061</td>\n    </tr>\n    <tr>\n      <th>1</th>\n      <td>0.832435</td>\n      <td>-0.184547</td>\n      <td>0.00979474</td>\n      <td>6.80534e-05</td>\n      <td>9.59369e-05</td>\n    </tr>\n    <tr>\n      <th>2</th>\n      <td>0.83239</td>\n      <td>-0.184419</td>\n      <td>0.000135599</td>\n      <td>1.16843e-08</td>\n      <td>1.83872e-08</td>\n    </tr>\n    <tr>\n      <th>3</th>\n      <td>0.83239</td>\n      <td>-0.184419</td>\n      <td>2.42692e-08</td>\n      <td>3.95517e-16</td>\n      <td>6.66134e-16</td>\n    </tr>\n  </tbody>\n</table>\n</div>"
     },
     "execution_count": 4,
     "metadata": {},
     "output_type": "execute_result"
    }
   ],
   "source": [
    "eps = 0.00001\n",
    "x_0, y_0 = 0.835 , -0.194\n",
    "num = 5\n",
    "\n",
    "table_2, value_2 = newt.Newton_method(x_0, y_0, eps, num, f, g, df_x, df_y, dg_x, dg_y)\n",
    "\n",
    "print(\"Полученное приближенное решение = \", value_2)\n",
    "table_2\n",
    "\n"
   ],
   "metadata": {
    "collapsed": false,
    "pycharm": {
     "name": "#%%\n"
    }
   }
  }
 ],
 "metadata": {
  "kernelspec": {
   "name": "pycharm-671264a7",
   "language": "python",
   "display_name": "PyCharm (Вычи)"
  },
  "language_info": {
   "codemirror_mode": {
    "name": "ipython",
    "version": 2
   },
   "file_extension": ".py",
   "mimetype": "text/x-python",
   "name": "python",
   "nbconvert_exporter": "python",
   "pygments_lexer": "ipython2",
   "version": "2.7.6"
  }
 },
 "nbformat": 4,
 "nbformat_minor": 0
}
