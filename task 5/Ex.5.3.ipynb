{
 "cells": [
  {
   "cell_type": "code",
   "execution_count": 13,
   "metadata": {
    "collapsed": true,
    "pycharm": {
     "is_executing": false
    }
   },
   "outputs": [],
   "source": [
    "import pandas as pd\n",
    "import funs_1\n",
    "import numpy as np"
   ]
  },
  {
   "cell_type": "code",
   "execution_count": 14,
   "outputs": [],
   "source": [
    "a = 0\n",
    "b = 1\n",
    "step = 0.1\n",
    "xx = [] # массив узлов\n",
    "for i in np.arange(a, b+step, step):\n",
    "    xx.append(a + i)\n"
   ],
   "metadata": {
    "collapsed": false,
    "pycharm": {
     "name": "#%%\n",
     "is_executing": false
    }
   }
  },
  {
   "cell_type": "code",
   "execution_count": 15,
   "outputs": [],
   "source": [
    "data = []  # массив значений f(x)\n",
    "for x in xx:\n",
    "    data.append(funs_1.f(x))"
   ],
   "metadata": {
    "collapsed": false,
    "pycharm": {
     "name": "#%%\n",
     "is_executing": false
    }
   }
  },
  {
   "cell_type": "code",
   "execution_count": 16,
   "outputs": [
    {
     "data": {
      "text/plain": "x     0.0      0.1      0.2     0.3      0.4      0.5      0.6      0.7  \\\nf(x)  1.0  1.34986  1.82212  2.4596  3.32012  4.48169  6.04965  8.16617   \n\nx          0.8       0.9       1.0  \nf(x)  11.02318  14.87973  20.08554  ",
      "text/html": "<div>\n<style scoped>\n    .dataframe tbody tr th:only-of-type {\n        vertical-align: middle;\n    }\n\n    .dataframe tbody tr th {\n        vertical-align: top;\n    }\n\n    .dataframe thead th {\n        text-align: right;\n    }\n</style>\n<table border=\"1\" class=\"dataframe\">\n  <thead>\n    <tr style=\"text-align: right;\">\n      <th>x</th>\n      <th>0.0</th>\n      <th>0.1</th>\n      <th>0.2</th>\n      <th>0.3</th>\n      <th>0.4</th>\n      <th>0.5</th>\n      <th>0.6</th>\n      <th>0.7</th>\n      <th>0.8</th>\n      <th>0.9</th>\n      <th>1.0</th>\n    </tr>\n  </thead>\n  <tbody>\n    <tr>\n      <th>f(x)</th>\n      <td>1.0</td>\n      <td>1.34986</td>\n      <td>1.82212</td>\n      <td>2.4596</td>\n      <td>3.32012</td>\n      <td>4.48169</td>\n      <td>6.04965</td>\n      <td>8.16617</td>\n      <td>11.02318</td>\n      <td>14.87973</td>\n      <td>20.08554</td>\n    </tr>\n  </tbody>\n</table>\n</div>"
     },
     "metadata": {},
     "output_type": "execute_result",
     "execution_count": 16
    }
   ],
   "source": [
    "# печатаем таблицу x - f(x)\n",
    "column = ['f(x)']\n",
    "df = pd.DataFrame(data, index=xx, columns=column).T\n",
    "df.columns.name = 'x'\n",
    "df"
   ],
   "metadata": {
    "collapsed": false,
    "pycharm": {
     "name": "#%%\n",
     "is_executing": false
    }
   }
  },
  {
   "cell_type": "markdown",
   "source": [
    "### Ничего не получается (((\n",
    "\n"
   ],
   "metadata": {
    "collapsed": false,
    "pycharm": {
     "name": "#%% md\n"
    }
   }
  },
  {
   "cell_type": "markdown",
   "source": [
    "Требуется получить формулу численного дифференцирования для\n",
    "вычисления приближенного значения второй производной с первым \n",
    "порядком аппроксимации.\n",
    "\n",
    "Формула для вычисления получается так же:\n",
    " \n",
    " $\\frac{f(x_0+h) - 2f(x_0) + f(x_0-h)}{ h^2}$,\n",
    "\n",
    "а погрешность $R_2 = \\frac{-h}{6} f'''(\\xi)$, но я не уверена , что так можно и это правильно.\n",
    "\n"
   ],
   "metadata": {
    "collapsed": false
   }
  },
  {
   "cell_type": "markdown",
   "source": [
    "Ещё, как я поняла, можно привести грубую аппроксимацию в таком виде:\n",
    "\n",
    "$R_2 = f^{(2)}(x_0) - \\frac{\\Delta^2 f_0 } {2}$. ($\\Delta^2$ - конечная разность)\n",
    "\n",
    "В данном случае, т.к. $\\exists \\  \\xi \\in [x_0, x_2]$: $\\Delta^2 f_0 = h^2 f^{(2)}(\\xi)$,\n",
    "мы получим погрешность:\n",
    "\n",
    "$R = f^{(2)}(x_0) - f^{(2)}(\\xi) = O(h)$"
   ],
   "metadata": {
    "collapsed": false
   }
  },
  {
   "cell_type": "markdown",
   "source": [
    "\n"
   ],
   "metadata": {
    "collapsed": false
   }
  }
 ],
 "metadata": {
  "kernelspec": {
   "name": "pycharm-671264a7",
   "language": "python",
   "display_name": "PyCharm (Вычи)"
  },
  "language_info": {
   "codemirror_mode": {
    "name": "ipython",
    "version": 2
   },
   "file_extension": ".py",
   "mimetype": "text/x-python",
   "name": "python",
   "nbconvert_exporter": "python",
   "pygments_lexer": "ipython2",
   "version": "2.7.6"
  },
  "pycharm": {
   "stem_cell": {
    "cell_type": "raw",
    "source": [],
    "metadata": {
     "collapsed": false
    }
   }
  }
 },
 "nbformat": 4,
 "nbformat_minor": 0
}