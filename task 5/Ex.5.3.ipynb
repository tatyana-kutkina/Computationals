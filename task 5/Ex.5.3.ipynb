{
 "cells": [
  {
   "cell_type": "markdown",
   "source": [
    "Требуется дифференцированием интерполяционного многочлена в форме Ньютона\n",
    "получить формулу численного дифференцирования для вычисления приближенно-\n",
    "го значения второй производной с первым порядком аппроксимации в точке $x = x_0$ для функции $y = e^{3x}$.\n"
   ],
   "metadata": {
    "collapsed": false,
    "pycharm": {
     "name": "#%% md\n"
    }
   }
  },
  {
   "cell_type": "markdown",
   "source": [
    "Полином Ньютона:\n",
    "\n",
    "$P(x) = y(x_0) + (x-x_0)y(x_0,x_1) + (x-x_0)(x-x_1)y(x_0,x_1,x_2) + ...$\n",
    "\n",
    "где $y(x_i,x_j) = \\frac{y(x_j) - y(x_i)}{x_j - x_i}$\n",
    "\n",
    "Тогда производная второго порядка:\n",
    "\n",
    "$P''(x) = 2y(x_0,x_1,x_2) + 2(3x - x_0 -x_1 -x_2)y(x_0,x_1,x_2,x_3) + ...$\n",
    "\n",
    "Оставив в формуле только первый член, получим формулу численного дифференцирования второго порядка с первым порядком аппроксимации:\n",
    "\n",
    "$y''(x) = 2y(x_0,x_1,x_2)$\n",
    "\n",
    "$R^{(k)}_n \\le M_{n+1} \\frac{(nh)^{n+1-k}}{(n+1-k)!} $\n",
    "\n",
    "$n=2, k=2$\n",
    "\n",
    "$R^{(2)}_2 \\le M_3 \\frac{(2h)^{1}}{(1)!} = O(h) $\n",
    "\n",
    "\n",
    "$M_3=\\max|y^{(3)}|$\n",
    "\n",
    "Искомая формула:\n",
    "\n",
    "$y''(x) = \\frac{f(x_0 +h) - 2f(x_0) +f(x_0 -h)}{h^2}$"
   ],
   "metadata": {
    "collapsed": false,
    "pycharm": {
     "name": "#%% md\n"
    }
   }
  },
  {
   "cell_type": "code",
   "execution_count": 72,
   "metadata": {
    "collapsed": true
   },
   "outputs": [],
   "source": [
    "import pandas as pd\n",
    "import funs_1"
   ]
  },
  {
   "cell_type": "code",
   "execution_count": 73,
   "outputs": [],
   "source": [
    "a = 1  #x_0 = 1\n",
    "steps = [0.1, 0.05, 0.025, 0.0125]\n",
    "xx = [] # массив узлов\n",
    "for i in range(len(steps)):\n",
    "    xx.append([a-steps[i], a, a+steps[i]])"
   ],
   "metadata": {
    "collapsed": false,
    "pycharm": {
     "name": "#%%\n"
    }
   }
  },
  {
   "cell_type": "code",
   "execution_count": 74,
   "outputs": [],
   "source": [
    "# точное значение второй производной в точке х_0 = 1\n",
    "y = funs_1.der(a,2)"
   ],
   "metadata": {
    "collapsed": false,
    "pycharm": {
     "name": "#%%\n"
    }
   }
  },
  {
   "cell_type": "code",
   "execution_count": 75,
   "outputs": [],
   "source": [
    "values= []  # массив значений f(x)\n",
    "for j in range(len(xx)):\n",
    "    arr = [funs_1.f(x) for x in xx[j]]\n",
    "\n",
    "    values.append(arr)\n"
   ],
   "metadata": {
    "collapsed": false,
    "pycharm": {
     "name": "#%%\n"
    }
   }
  },
  {
   "cell_type": "code",
   "execution_count": 76,
   "outputs": [],
   "source": [
    "# считаем численное значение производных и погрешностей\n",
    "diffs = [(values[i][0] - 2*values[i][1] + values[i][2])/(steps[i]**2) for i in range(len(values))]\n",
    "errors = [abs(diffs[j] - y) for j in range(len(diffs))]"
   ],
   "metadata": {
    "collapsed": false,
    "pycharm": {
     "name": "#%%\n"
    }
   }
  },
  {
   "cell_type": "code",
   "execution_count": 77,
   "outputs": [
    {
     "name": "stdout",
     "output_type": "stream",
     "text": [
      "Фактическое значение производной =  180.76986\n"
     ]
    },
    {
     "data": {
      "text/plain": "                                        0          1          2          3\nШаг h                             0.10000    0.05000    0.02500    0.01250\nЧисленное значение производной  182.12900  181.10400  180.84800  180.80000\nПогрешность                       1.35914    0.33414    0.07814    0.03014",
      "text/html": "<div>\n<style scoped>\n    .dataframe tbody tr th:only-of-type {\n        vertical-align: middle;\n    }\n\n    .dataframe tbody tr th {\n        vertical-align: top;\n    }\n\n    .dataframe thead th {\n        text-align: right;\n    }\n</style>\n<table border=\"1\" class=\"dataframe\">\n  <thead>\n    <tr style=\"text-align: right;\">\n      <th></th>\n      <th>0</th>\n      <th>1</th>\n      <th>2</th>\n      <th>3</th>\n    </tr>\n  </thead>\n  <tbody>\n    <tr>\n      <th>Шаг h</th>\n      <td>0.10000</td>\n      <td>0.05000</td>\n      <td>0.02500</td>\n      <td>0.01250</td>\n    </tr>\n    <tr>\n      <th>Численное значение производной</th>\n      <td>182.12900</td>\n      <td>181.10400</td>\n      <td>180.84800</td>\n      <td>180.80000</td>\n    </tr>\n    <tr>\n      <th>Погрешность</th>\n      <td>1.35914</td>\n      <td>0.33414</td>\n      <td>0.07814</td>\n      <td>0.03014</td>\n    </tr>\n  </tbody>\n</table>\n</div>"
     },
     "execution_count": 77,
     "metadata": {},
     "output_type": "execute_result"
    }
   ],
   "source": [
    "# печатаем таблицу погрешностей\n",
    "column = ['f(x)']\n",
    "data = [steps, diffs, errors ]\n",
    "indexes = [\n",
    "    \"Шаг h\",\n",
    "    \"Численное значение производной\",\n",
    "    \"Погрешность\"\n",
    "]\n",
    "df = pd.DataFrame(data, index = indexes)\n",
    "print('Фактическое значение производной = ', y)\n",
    "df\n",
    "\n",
    "\n"
   ],
   "metadata": {
    "collapsed": false,
    "pycharm": {
     "name": "#%%\n"
    }
   }
  }
 ],
 "metadata": {
  "kernelspec": {
   "name": "pycharm-671264a7",
   "language": "python",
   "display_name": "PyCharm (Вычи)"
  },
  "language_info": {
   "codemirror_mode": {
    "name": "ipython",
    "version": 2
   },
   "file_extension": ".py",
   "mimetype": "text/x-python",
   "name": "python",
   "nbconvert_exporter": "python",
   "pygments_lexer": "ipython2",
   "version": "2.7.6"
  }
 },
 "nbformat": 4,
 "nbformat_minor": 0
}