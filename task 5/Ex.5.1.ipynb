{
 "cells": [
  {
   "cell_type": "markdown",
   "source": [
    "## 1 пункт задания 5.4 (вариант 5)\n",
    "\n"
   ],
   "metadata": {
    "collapsed": false,
    "pycharm": {
     "name": "#%% md\n"
    }
   }
  },
  {
   "cell_type": "code",
   "execution_count": 1,
   "metadata": {
    "pycharm": {
     "is_executing": false,
     "name": "#%%\n"
    }
   },
   "outputs": [],
   "source": [
    "import funs_1\n",
    "import pandas as pd"
   ]
  },
  {
   "cell_type": "markdown",
   "source": [
    "$f(x) = e^{3x}$\n",
    "\n",
    "Даны равноотстоящие узлы $x_i \\in [0,1]$ с шагом $h=0.1$"
   ],
   "metadata": {
    "collapsed": false
   }
  },
  {
   "cell_type": "code",
   "execution_count": 2,
   "metadata": {
    "pycharm": {
     "is_executing": false,
     "name": "#%%\n"
    }
   },
   "outputs": [],
   "source": [
    "h = 0.1\n",
    "a = 0\n",
    "b = 1\n",
    "\n",
    "xx = [] # массив узлов\n",
    "for i in range(int(b / h + 1)):\n",
    "    xx.append(round(a + i * h, 1))\n"
   ]
  },
  {
   "cell_type": "markdown",
   "source": [
    "### Вычисляем значения узлов, “точные” значения производных в узлах, приближенные значенияй производных и их разностей (фактические погрешности) \n",
    "\n"
   ],
   "metadata": {
    "collapsed": false,
    "pycharm": {
     "name": "#%% md\n"
    }
   }
  },
  {
   "cell_type": "code",
   "execution_count": 3,
   "metadata": {
    "pycharm": {
     "is_executing": false,
     "name": "#%%\n"
    }
   },
   "outputs": [],
   "source": [
    "values = []\n",
    "derr_1 = []\n",
    "derr_2 = []\n",
    "for x in xx:\n",
    "    values.append(funs_1.f(x))\n",
    "    derr_1.append(funs_1.der(x, 1))\n",
    "    derr_2.append(funs_1.der(x, 2))\n",
    "\n",
    "diffs_1_1 = funs_1.num_diff_1_1(values, h)\n",
    "diffs_1_2 = funs_1.num_diff_1_2(values, h)\n",
    "diffs_2 = funs_1.num_diff_2(values, h)\n",
    "\n",
    "errors_1_1 = funs_1.err_1(derr_1, diffs_1_1)\n",
    "errors_1_2 = funs_1.err_2(derr_1, diffs_1_2)\n",
    "errors_2 = funs_1.err_2(derr_2, diffs_2)"
   ]
  },
  {
   "cell_type": "markdown",
   "source": [
    "### Печатаем итоговую таблицу:\n"
   ],
   "metadata": {
    "collapsed": false,
    "pycharm": {
     "name": "#%% md\n"
    }
   }
  },
  {
   "cell_type": "code",
   "execution_count": 4,
   "metadata": {
    "pycharm": {
     "is_executing": false,
     "name": "#%%\n"
    }
   },
   "outputs": [
    {
     "data": {
      "text/plain": "$x$   $f(x)$  $f'(x)$ $\\widetilde {f'}(x), \\ O(h)$   $O(h)$  \\\n0.0        1        3                       3.4986  -0.4986   \n0.1  1.34986  4.04958                       4.7226 -0.67302   \n0.2  1.82212  5.46636                       6.3748 -0.90844   \n0.3   2.4596   7.3788                       8.6052  -1.2264   \n0.4  3.32012  9.96036                      11.6157 -1.65534   \n0.5  4.48169  13.4451                      15.6796 -2.23453   \n0.6  6.04965  18.1489                      21.1652 -3.01625   \n0.7  8.16617  24.4985                      28.5701 -4.07159   \n0.8  11.0232  33.0695                      38.5655 -5.49596   \n0.9  14.8797  44.6392                      52.0581 -7.41891   \n1.0  20.0855  60.2566                                         \n\n$x$ $\\widetilde {f'}(x), \\ O(h^2)$ $O(h^2)$ $f''(x)$  \\\n0.0                                                9   \n0.1                        0.04111  4.00847  12.1487   \n0.2                        0.05549  5.41087  16.3991   \n0.3                         0.0749   7.3039  22.1364   \n0.4                         0.1011  9.85926  29.8811   \n0.5                        0.13648  13.3086  40.3352   \n0.6                        0.18422  17.9647  54.4468   \n0.7                        0.24868  24.2498  73.4955   \n0.8                        0.33568  32.7339  99.2086   \n0.9                        0.45312  44.1861  133.918   \n1.0                                           180.77   \n\n$x$ $\\widetilde {f''}(x), \\ O(h^2)$ $O(h^2)$  \n0.0                                           \n0.1                           12.24 -0.09126  \n0.2                          16.522 -0.12292  \n0.3                          22.304  -0.1676  \n0.4                          30.105 -0.22392  \n0.5                          40.639 -0.30379  \n0.6                          54.856 -0.40915  \n0.7                          74.049 -0.55347  \n0.8                          99.954 -0.74538  \n0.9                         134.926 -1.00843  \n1.0                                           ",
      "text/html": "<div>\n<style scoped>\n    .dataframe tbody tr th:only-of-type {\n        vertical-align: middle;\n    }\n\n    .dataframe tbody tr th {\n        vertical-align: top;\n    }\n\n    .dataframe thead th {\n        text-align: right;\n    }\n</style>\n<table border=\"1\" class=\"dataframe\">\n  <thead>\n    <tr style=\"text-align: right;\">\n      <th>$x$</th>\n      <th>$f(x)$</th>\n      <th>$f'(x)$</th>\n      <th>$\\widetilde {f'}(x), \\ O(h)$</th>\n      <th>$O(h)$</th>\n      <th>$\\widetilde {f'}(x), \\ O(h^2)$</th>\n      <th>$O(h^2)$</th>\n      <th>$f''(x)$</th>\n      <th>$\\widetilde {f''}(x), \\ O(h^2)$</th>\n      <th>$O(h^2)$</th>\n    </tr>\n  </thead>\n  <tbody>\n    <tr>\n      <th>0.0</th>\n      <td>1</td>\n      <td>3</td>\n      <td>3.4986</td>\n      <td>-0.4986</td>\n      <td></td>\n      <td></td>\n      <td>9</td>\n      <td></td>\n      <td></td>\n    </tr>\n    <tr>\n      <th>0.1</th>\n      <td>1.34986</td>\n      <td>4.04958</td>\n      <td>4.7226</td>\n      <td>-0.67302</td>\n      <td>0.04111</td>\n      <td>4.00847</td>\n      <td>12.1487</td>\n      <td>12.24</td>\n      <td>-0.09126</td>\n    </tr>\n    <tr>\n      <th>0.2</th>\n      <td>1.82212</td>\n      <td>5.46636</td>\n      <td>6.3748</td>\n      <td>-0.90844</td>\n      <td>0.05549</td>\n      <td>5.41087</td>\n      <td>16.3991</td>\n      <td>16.522</td>\n      <td>-0.12292</td>\n    </tr>\n    <tr>\n      <th>0.3</th>\n      <td>2.4596</td>\n      <td>7.3788</td>\n      <td>8.6052</td>\n      <td>-1.2264</td>\n      <td>0.0749</td>\n      <td>7.3039</td>\n      <td>22.1364</td>\n      <td>22.304</td>\n      <td>-0.1676</td>\n    </tr>\n    <tr>\n      <th>0.4</th>\n      <td>3.32012</td>\n      <td>9.96036</td>\n      <td>11.6157</td>\n      <td>-1.65534</td>\n      <td>0.1011</td>\n      <td>9.85926</td>\n      <td>29.8811</td>\n      <td>30.105</td>\n      <td>-0.22392</td>\n    </tr>\n    <tr>\n      <th>0.5</th>\n      <td>4.48169</td>\n      <td>13.4451</td>\n      <td>15.6796</td>\n      <td>-2.23453</td>\n      <td>0.13648</td>\n      <td>13.3086</td>\n      <td>40.3352</td>\n      <td>40.639</td>\n      <td>-0.30379</td>\n    </tr>\n    <tr>\n      <th>0.6</th>\n      <td>6.04965</td>\n      <td>18.1489</td>\n      <td>21.1652</td>\n      <td>-3.01625</td>\n      <td>0.18422</td>\n      <td>17.9647</td>\n      <td>54.4468</td>\n      <td>54.856</td>\n      <td>-0.40915</td>\n    </tr>\n    <tr>\n      <th>0.7</th>\n      <td>8.16617</td>\n      <td>24.4985</td>\n      <td>28.5701</td>\n      <td>-4.07159</td>\n      <td>0.24868</td>\n      <td>24.2498</td>\n      <td>73.4955</td>\n      <td>74.049</td>\n      <td>-0.55347</td>\n    </tr>\n    <tr>\n      <th>0.8</th>\n      <td>11.0232</td>\n      <td>33.0695</td>\n      <td>38.5655</td>\n      <td>-5.49596</td>\n      <td>0.33568</td>\n      <td>32.7339</td>\n      <td>99.2086</td>\n      <td>99.954</td>\n      <td>-0.74538</td>\n    </tr>\n    <tr>\n      <th>0.9</th>\n      <td>14.8797</td>\n      <td>44.6392</td>\n      <td>52.0581</td>\n      <td>-7.41891</td>\n      <td>0.45312</td>\n      <td>44.1861</td>\n      <td>133.918</td>\n      <td>134.926</td>\n      <td>-1.00843</td>\n    </tr>\n    <tr>\n      <th>1.0</th>\n      <td>20.0855</td>\n      <td>60.2566</td>\n      <td></td>\n      <td></td>\n      <td></td>\n      <td></td>\n      <td>180.77</td>\n      <td></td>\n      <td></td>\n    </tr>\n  </tbody>\n</table>\n</div>"
     },
     "metadata": {},
     "output_type": "execute_result",
     "execution_count": 4
    }
   ],
   "source": [
    "data = [values, derr_1, diffs_1_1, errors_1_1, diffs_1_2, errors_1_2, derr_2, diffs_2, errors_2]\n",
    "indexes = [\n",
    "    \"$f(x)$\",\n",
    "    \"$f'(x)$\", \n",
    "    \"$\\widetilde {f'}(x), \\ O(h)$\", \n",
    "    \"$O(h)$\",\n",
    "    \"$\\widetilde {f'}(x), \\ O(h^2)$\", \n",
    "    \"$O(h^2)$\",\n",
    "    \"$f''(x)$\",\n",
    "    \"$\\widetilde {f''}(x), \\ O(h^2)$\", \n",
    "    \"$O(h^2)$\"\n",
    "    ]\n",
    "\n",
    "df = pd.DataFrame(data, index=indexes, columns=[i for i in xx]).T\n",
    "df.columns.name = '$x$'\n",
    "\n",
    "df\n"
   ]
  }
 ],
 "metadata": {
  "kernelspec": {
   "display_name": "PyCharm (Вычи)",
   "language": "python",
   "name": "pycharm-671264a7"
  },
  "language_info": {
   "codemirror_mode": {
    "name": "ipython",
    "version": 3
   },
   "file_extension": ".py",
   "mimetype": "text/x-python",
   "name": "python",
   "nbconvert_exporter": "python",
   "pygments_lexer": "ipython3",
   "version": "3.6.9"
  },
  "pycharm": {
   "stem_cell": {
    "cell_type": "raw",
    "source": [],
    "metadata": {
     "collapsed": false
    }
   }
  }
 },
 "nbformat": 4,
 "nbformat_minor": 1
}