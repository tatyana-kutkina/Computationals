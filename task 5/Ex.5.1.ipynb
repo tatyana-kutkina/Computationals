{
 "cells": [
  {
   "cell_type": "code",
   "execution_count": 27,
   "metadata": {
    "pycharm": {
     "is_executing": false,
     "name": "#%%\n"
    }
   },
   "outputs": [],
   "source": [
    "import funs_1\n",
    "import pandas as pd"
   ]
  },
  {
   "cell_type": "code",
   "execution_count": 28,
   "metadata": {
    "pycharm": {
     "is_executing": false
    }
   },
   "outputs": [],
   "source": [
    "desired_width = 400\n",
    "pd.set_option('display.width', desired_width)"
   ]
  },
  {
   "cell_type": "markdown",
   "source": [
    "$f(x) = e^{2x}$\n",
    "\n",
    "Даны равноотстоящие узлы $x_i \\in [0,1]$ с шагом $h=0.1$"
   ],
   "metadata": {
    "collapsed": false
   }
  },
  {
   "cell_type": "code",
   "execution_count": 29,
   "metadata": {
    "pycharm": {
     "is_executing": false,
     "name": "#%%\n"
    }
   },
   "outputs": [],
   "source": [
    "h = 0.1\n",
    "a = 0\n",
    "b = 1\n",
    "\n",
    "xx = []\n",
    "for i in range(int(b / h + 1)):\n",
    "    xx.append(round(a + i * h, 1))\n"
   ]
  },
  {
   "cell_type": "code",
   "execution_count": 30,
   "metadata": {
    "pycharm": {
     "is_executing": false,
     "name": "#%%\n"
    }
   },
   "outputs": [
    {
     "name": "stdout",
     "text": [
      "[1.0, 1.2214, 1.49182, 1.82212, 2.22554, 2.71828, 3.32012, 4.0552, 4.95303, 6.04965, 7.38906]\n"
     ],
     "output_type": "stream"
    }
   ],
   "source": [
    "values = []\n",
    "derr_1 = []\n",
    "derr_2 = []\n",
    "for x in xx:\n",
    "    values.append(funs_1.f(x))\n",
    "    derr_1.append(funs_1.der(x, 1))\n",
    "    derr_2.append(funs_1.der(x, 2))\n",
    "\n",
    "print(values)\n",
    "\n",
    "diffs_1_1 = funs_1.num_diff_1_1(values, h)\n",
    "diffs_1_2 = funs_1.num_diff_1_2(values, h)\n",
    "diffs_2 = funs_1.num_diff_2(values, h)\n",
    "\n",
    "errors_1_1 = funs_1.err_1(derr_1, diffs_1_1)\n",
    "errors_1_2 = funs_1.err_2(derr_1, diffs_1_2)\n",
    "errors_2 = funs_1.err_2(derr_2, diffs_2)"
   ]
  },
  {
   "cell_type": "code",
   "execution_count": 31,
   "metadata": {
    "pycharm": {
     "is_executing": false,
     "name": "#%%\n"
    }
   },
   "outputs": [
    {
     "data": {
      "text/plain": "$x$   $f(x)$  $f'(x)$ $\\widetilde {f'}(x), \\ O(h)$   $O(h)$ $\\widetilde {f'}(x), \\ O(h^2)$ $O(h^2)$ $f''(x)$ $\\widetilde {f''}(x), \\ O(h^2)$ $O(h^2)$\n0.0        1  3.62686                        2.214  1.41286                                           5.5244                                         \n0.1   1.2214  4.42986                       2.7042  1.72566                        0.02459  4.40527  6.74751                           4.902  1.84551\n0.2  1.49182  5.41064                        3.303  2.10764                        0.03004   5.3806  8.24144                           5.988  2.25344\n0.3  1.82212  6.60857                       4.0342  2.57437                        0.03669  6.57188  10.0661                           7.312   2.7541\n0.4  2.22554  8.07173                       4.9274  3.14433                        0.04481  8.02692  12.2948                           8.932  3.36276\n0.5  2.71828  9.85883                       6.0184  3.84043                        0.05473   9.8041  15.0169                           10.91  4.10686\n0.6  3.32012  12.0416                       7.3508   4.6908                        0.06685  11.9748  18.3416                          13.324  5.01762\n0.7   4.0552  14.7076                       8.9783  5.72934                        0.08165   14.626  22.4025                          16.275  6.12751\n0.8  4.95303   17.964                      10.9662  6.99776                        0.09972  17.8642  27.3625                          19.879  7.48349\n0.9  6.04965  21.9412                      13.3941  8.54712                         0.1218  21.8194  33.4206                          24.279  9.14161\n1.0  7.38906  26.7991                                                                                  40.82                                         ",
      "text/html": "<div>\n<style scoped>\n    .dataframe tbody tr th:only-of-type {\n        vertical-align: middle;\n    }\n\n    .dataframe tbody tr th {\n        vertical-align: top;\n    }\n\n    .dataframe thead th {\n        text-align: right;\n    }\n</style>\n<table border=\"1\" class=\"dataframe\">\n  <thead>\n    <tr style=\"text-align: right;\">\n      <th>$x$</th>\n      <th>$f(x)$</th>\n      <th>$f'(x)$</th>\n      <th>$\\widetilde {f'}(x), \\ O(h)$</th>\n      <th>$O(h)$</th>\n      <th>$\\widetilde {f'}(x), \\ O(h^2)$</th>\n      <th>$O(h^2)$</th>\n      <th>$f''(x)$</th>\n      <th>$\\widetilde {f''}(x), \\ O(h^2)$</th>\n      <th>$O(h^2)$</th>\n    </tr>\n  </thead>\n  <tbody>\n    <tr>\n      <th>0.0</th>\n      <td>1</td>\n      <td>3.62686</td>\n      <td>2.214</td>\n      <td>1.41286</td>\n      <td></td>\n      <td></td>\n      <td>5.5244</td>\n      <td></td>\n      <td></td>\n    </tr>\n    <tr>\n      <th>0.1</th>\n      <td>1.2214</td>\n      <td>4.42986</td>\n      <td>2.7042</td>\n      <td>1.72566</td>\n      <td>0.02459</td>\n      <td>4.40527</td>\n      <td>6.74751</td>\n      <td>4.902</td>\n      <td>1.84551</td>\n    </tr>\n    <tr>\n      <th>0.2</th>\n      <td>1.49182</td>\n      <td>5.41064</td>\n      <td>3.303</td>\n      <td>2.10764</td>\n      <td>0.03004</td>\n      <td>5.3806</td>\n      <td>8.24144</td>\n      <td>5.988</td>\n      <td>2.25344</td>\n    </tr>\n    <tr>\n      <th>0.3</th>\n      <td>1.82212</td>\n      <td>6.60857</td>\n      <td>4.0342</td>\n      <td>2.57437</td>\n      <td>0.03669</td>\n      <td>6.57188</td>\n      <td>10.0661</td>\n      <td>7.312</td>\n      <td>2.7541</td>\n    </tr>\n    <tr>\n      <th>0.4</th>\n      <td>2.22554</td>\n      <td>8.07173</td>\n      <td>4.9274</td>\n      <td>3.14433</td>\n      <td>0.04481</td>\n      <td>8.02692</td>\n      <td>12.2948</td>\n      <td>8.932</td>\n      <td>3.36276</td>\n    </tr>\n    <tr>\n      <th>0.5</th>\n      <td>2.71828</td>\n      <td>9.85883</td>\n      <td>6.0184</td>\n      <td>3.84043</td>\n      <td>0.05473</td>\n      <td>9.8041</td>\n      <td>15.0169</td>\n      <td>10.91</td>\n      <td>4.10686</td>\n    </tr>\n    <tr>\n      <th>0.6</th>\n      <td>3.32012</td>\n      <td>12.0416</td>\n      <td>7.3508</td>\n      <td>4.6908</td>\n      <td>0.06685</td>\n      <td>11.9748</td>\n      <td>18.3416</td>\n      <td>13.324</td>\n      <td>5.01762</td>\n    </tr>\n    <tr>\n      <th>0.7</th>\n      <td>4.0552</td>\n      <td>14.7076</td>\n      <td>8.9783</td>\n      <td>5.72934</td>\n      <td>0.08165</td>\n      <td>14.626</td>\n      <td>22.4025</td>\n      <td>16.275</td>\n      <td>6.12751</td>\n    </tr>\n    <tr>\n      <th>0.8</th>\n      <td>4.95303</td>\n      <td>17.964</td>\n      <td>10.9662</td>\n      <td>6.99776</td>\n      <td>0.09972</td>\n      <td>17.8642</td>\n      <td>27.3625</td>\n      <td>19.879</td>\n      <td>7.48349</td>\n    </tr>\n    <tr>\n      <th>0.9</th>\n      <td>6.04965</td>\n      <td>21.9412</td>\n      <td>13.3941</td>\n      <td>8.54712</td>\n      <td>0.1218</td>\n      <td>21.8194</td>\n      <td>33.4206</td>\n      <td>24.279</td>\n      <td>9.14161</td>\n    </tr>\n    <tr>\n      <th>1.0</th>\n      <td>7.38906</td>\n      <td>26.7991</td>\n      <td></td>\n      <td></td>\n      <td></td>\n      <td></td>\n      <td>40.82</td>\n      <td></td>\n      <td></td>\n    </tr>\n  </tbody>\n</table>\n</div>"
     },
     "metadata": {},
     "output_type": "execute_result",
     "execution_count": 31
    }
   ],
   "source": [
    "data = [values, derr_1, diffs_1_1, errors_1_1, diffs_1_2, errors_1_2, derr_2, diffs_2, errors_2]\n",
    "indexes = [\n",
    "    \"$f(x)$\",\n",
    "    \"$f'(x)$\", \n",
    "    \"$\\widetilde {f'}(x), \\ O(h)$\", \n",
    "    \"$O(h)$\",\n",
    "    \"$\\widetilde {f'}(x), \\ O(h^2)$\", \n",
    "    \"$O(h^2)$\",\n",
    "    \"$f''(x)$\",\n",
    "    \"$\\widetilde {f''}(x), \\ O(h^2)$\", \n",
    "    \"$O(h^2)$\"\n",
    "    ]\n",
    "\n",
    "df = pd.DataFrame(data, index=indexes, columns=[i for i in xx]).T\n",
    "df.columns.name = '$x$'\n",
    "\n",
    "df\n"
   ]
  }
 ],
 "metadata": {
  "kernelspec": {
   "display_name": "PyCharm (Вычи)",
   "language": "python",
   "name": "pycharm-671264a7"
  },
  "language_info": {
   "codemirror_mode": {
    "name": "ipython",
    "version": 3
   },
   "file_extension": ".py",
   "mimetype": "text/x-python",
   "name": "python",
   "nbconvert_exporter": "python",
   "pygments_lexer": "ipython3",
   "version": "3.6.9"
  },
  "pycharm": {
   "stem_cell": {
    "cell_type": "raw",
    "source": [],
    "metadata": {
     "collapsed": false
    }
   }
  }
 },
 "nbformat": 4,
 "nbformat_minor": 1
}