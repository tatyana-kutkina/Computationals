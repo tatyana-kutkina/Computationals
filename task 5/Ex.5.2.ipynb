{
 "cells": [
  {
   "cell_type": "markdown",
   "metadata": {
    "collapsed": true,
    "pycharm": {
     "name": "#%% md\n"
    }
   },
   "source": [
    "## 2 пункт задания 5.4 (вариант 5)\n",
    "Вычислить вторую разностную производную второго порядка аппроксимации функции $e^{3x}$\n"
   ]
  },
  {
   "cell_type": "markdown",
   "source": [
    "### $x=1$, $h=0.1$\n",
    "\n",
    "### $f(x) = e^{3x}$\n"
   ],
   "metadata": {
    "collapsed": false,
    "pycharm": {
     "name": "#%% md\n"
    }
   }
  },
  {
   "cell_type": "code",
   "execution_count": 83,
   "outputs": [],
   "source": [
    "from math import exp"
   ],
   "metadata": {
    "collapsed": false,
    "pycharm": {
     "name": "#%%\n",
     "is_executing": false
    }
   }
  },
  {
   "cell_type": "code",
   "execution_count": 84,
   "outputs": [],
   "source": [
    "\n",
    "# вычисляем значение функции в точке х\n",
    "def f(x):\n",
    "    return round(exp(3 * x), 5)\n",
    "\n",
    "\n",
    "# вычисление точной производной\n",
    "def der(x, k):\n",
    "    return round((3 ** k) * f(x), 5)\n",
    "\n",
    "\n",
    "# второй разностной производной второго порядка аппроксимации\n",
    "def derivative(x, h):\n",
    "    return round((f(x + h) - 2 * f(x) + f(x - h)) / h ** 2, 5)\n"
   ],
   "metadata": {
    "collapsed": false,
    "pycharm": {
     "name": "#%%\n",
     "is_executing": false
    }
   }
  },
  {
   "cell_type": "code",
   "execution_count": 85,
   "outputs": [],
   "source": [
    "x = 1 # точка вычисления\n",
    "h = 0.1 # начальное значение шага\n",
    "df = der(x, 2) # точное значение f''(x=1)"
   ],
   "metadata": {
    "collapsed": false,
    "pycharm": {
     "name": "#%%\n",
     "is_executing": false
    }
   }
  },
  {
   "cell_type": "code",
   "execution_count": 86,
   "outputs": [],
   "source": [
    "err = [abs(df - derivative(x, h))] # фактическая погрешность при h=0.1\n",
    "i = 0\n",
    "# вычисляем погрешность, пока не начнет возрастать\n",
    "while True:\n",
    "    i+=1\n",
    "    h/=2\n",
    "    err.append(abs(df - derivative(x, h)))\n",
    "    if err[i] - err[i-1] > 0:\n",
    "        break\n",
    "h*=2"
   ],
   "metadata": {
    "collapsed": false,
    "pycharm": {
     "name": "#%%\n",
     "is_executing": false
    }
   }
  },
  {
   "cell_type": "markdown",
   "source": [
    "Погрешности при уменьшающемся вдвое h\n"
   ],
   "metadata": {
    "collapsed": false
   }
  },
  {
   "cell_type": "code",
   "execution_count": 87,
   "outputs": [
    {
     "name": "stdout",
     "text": [
      "1.3591399999999965\n",
      "0.3341400000000192\n",
      "0.07814000000001897\n",
      "0.030140000000017153\n",
      "0.28986000000000445\n"
     ],
     "output_type": "stream"
    }
   ],
   "source": [
    "for er in err:\n",
    "    print(er)\n"
   ],
   "metadata": {
    "collapsed": false,
    "pycharm": {
     "name": "#%%\n",
     "is_executing": false
    }
   }
  },
  {
   "cell_type": "code",
   "execution_count": 88,
   "outputs": [
    {
     "name": "stdout",
     "text": [
      "Оптимальное h =  0.0125\n",
      "Точное значение производной второго порядка =  180.76986\n",
      "Значение второй разностной  производной второго порядка аппроксимации =  180.8\n"
     ],
     "output_type": "stream"
    }
   ],
   "source": [
    "print('Оптимальное h = ', h)\n",
    "print('Точное значение производной второго порядка = ', df)\n",
    "print('Значение второй разностной  производной второго порядка аппроксимации = ', derivative(x, h) )\n",
    "\n",
    "\n"
   ],
   "metadata": {
    "collapsed": false,
    "pycharm": {
     "name": "#%%\n",
     "is_executing": false
    }
   }
  }
 ],
 "metadata": {
  "kernelspec": {
   "name": "pycharm-671264a7",
   "language": "python",
   "display_name": "PyCharm (Вычи)"
  },
  "language_info": {
   "codemirror_mode": {
    "name": "ipython",
    "version": 2
   },
   "file_extension": ".py",
   "mimetype": "text/x-python",
   "name": "python",
   "nbconvert_exporter": "python",
   "pygments_lexer": "ipython2",
   "version": "2.7.6"
  }
 },
 "nbformat": 4,
 "nbformat_minor": 0
}